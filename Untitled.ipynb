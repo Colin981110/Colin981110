{
 "cells": [
  {
   "cell_type": "code",
   "execution_count": 1,
   "id": "46e9956f",
   "metadata": {},
   "outputs": [
    {
     "name": "stdout",
     "output_type": "stream",
     "text": [
      "Requirement already satisfied: torch in c:\\users\\colin\\anaconda3\\envs\\tf37\\lib\\site-packages (1.12.0)\n",
      "Requirement already satisfied: opencv-python in c:\\users\\colin\\anaconda3\\envs\\tf37\\lib\\site-packages (4.6.0.66)\n",
      "Requirement already satisfied: pandas in c:\\users\\colin\\anaconda3\\envs\\tf37\\lib\\site-packages (1.3.5)\n",
      "Requirement already satisfied: requests in c:\\users\\colin\\anaconda3\\envs\\tf37\\lib\\site-packages (2.27.1)\n",
      "Requirement already satisfied: pyyaml in c:\\users\\colin\\anaconda3\\envs\\tf37\\lib\\site-packages (6.0)\n",
      "Requirement already satisfied: tqdm in c:\\users\\colin\\anaconda3\\envs\\tf37\\lib\\site-packages (4.64.0)\n",
      "Requirement already satisfied: matplotlib in c:\\users\\colin\\anaconda3\\envs\\tf37\\lib\\site-packages (3.5.2)\n",
      "Requirement already satisfied: seaborn in c:\\users\\colin\\anaconda3\\envs\\tf37\\lib\\site-packages (0.11.2)\n",
      "Requirement already satisfied: pytube in c:\\users\\colin\\anaconda3\\envs\\tf37\\lib\\site-packages (12.1.0)\n",
      "Requirement already satisfied: typing-extensions in c:\\users\\colin\\anaconda3\\envs\\tf37\\lib\\site-packages (from torch) (4.1.1)\n",
      "Requirement already satisfied: numpy>=1.14.5 in c:\\users\\colin\\anaconda3\\envs\\tf37\\lib\\site-packages (from opencv-python) (1.21.5)\n",
      "Requirement already satisfied: python-dateutil>=2.7.3 in c:\\users\\colin\\anaconda3\\envs\\tf37\\lib\\site-packages (from pandas) (2.8.2)\n",
      "Requirement already satisfied: pytz>=2017.3 in c:\\users\\colin\\anaconda3\\envs\\tf37\\lib\\site-packages (from pandas) (2022.1)\n",
      "Requirement already satisfied: charset-normalizer~=2.0.0 in c:\\users\\colin\\anaconda3\\envs\\tf37\\lib\\site-packages (from requests) (2.0.4)\n",
      "Requirement already satisfied: certifi>=2017.4.17 in c:\\users\\colin\\anaconda3\\envs\\tf37\\lib\\site-packages (from requests) (2022.6.15)\n",
      "Requirement already satisfied: urllib3<1.27,>=1.21.1 in c:\\users\\colin\\anaconda3\\envs\\tf37\\lib\\site-packages (from requests) (1.26.9)\n",
      "Requirement already satisfied: idna<4,>=2.5 in c:\\users\\colin\\anaconda3\\envs\\tf37\\lib\\site-packages (from requests) (3.3)\n",
      "Requirement already satisfied: colorama in c:\\users\\colin\\anaconda3\\envs\\tf37\\lib\\site-packages (from tqdm) (0.4.4)\n",
      "Requirement already satisfied: kiwisolver>=1.0.1 in c:\\users\\colin\\anaconda3\\envs\\tf37\\lib\\site-packages (from matplotlib) (1.4.3)\n",
      "Requirement already satisfied: pillow>=6.2.0 in c:\\users\\colin\\anaconda3\\envs\\tf37\\lib\\site-packages (from matplotlib) (9.1.1)\n",
      "Requirement already satisfied: cycler>=0.10 in c:\\users\\colin\\anaconda3\\envs\\tf37\\lib\\site-packages (from matplotlib) (0.11.0)\n",
      "Requirement already satisfied: packaging>=20.0 in c:\\users\\colin\\anaconda3\\envs\\tf37\\lib\\site-packages (from matplotlib) (21.3)\n",
      "Requirement already satisfied: pyparsing>=2.2.1 in c:\\users\\colin\\anaconda3\\envs\\tf37\\lib\\site-packages (from matplotlib) (3.0.4)\n",
      "Requirement already satisfied: fonttools>=4.22.0 in c:\\users\\colin\\anaconda3\\envs\\tf37\\lib\\site-packages (from matplotlib) (4.33.3)\n",
      "Requirement already satisfied: scipy>=1.0 in c:\\users\\colin\\anaconda3\\envs\\tf37\\lib\\site-packages (from seaborn) (1.7.3)\n",
      "Requirement already satisfied: six>=1.5 in c:\\users\\colin\\anaconda3\\envs\\tf37\\lib\\site-packages (from python-dateutil>=2.7.3->pandas) (1.16.0)\n"
     ]
    }
   ],
   "source": [
    "!pip install torch opencv-python pandas requests pyyaml tqdm matplotlib seaborn pytube"
   ]
  },
  {
   "cell_type": "code",
   "execution_count": null,
   "id": "1653e845",
   "metadata": {},
   "outputs": [],
   "source": [
    "import torch\n",
    "\n",
    "model = torch.hub.load('untralytics/yolov5',)"
   ]
  }
 ],
 "metadata": {
  "kernelspec": {
   "display_name": "Python 3 (ipykernel)",
   "language": "python",
   "name": "python3"
  },
  "language_info": {
   "codemirror_mode": {
    "name": "ipython",
    "version": 3
   },
   "file_extension": ".py",
   "mimetype": "text/x-python",
   "name": "python",
   "nbconvert_exporter": "python",
   "pygments_lexer": "ipython3",
   "version": "3.8.13"
  }
 },
 "nbformat": 4,
 "nbformat_minor": 5
}
