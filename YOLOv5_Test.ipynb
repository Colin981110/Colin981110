{
 "cells": [
  {
   "cell_type": "code",
   "execution_count": 5,
   "id": "2d791d67",
   "metadata": {
    "scrolled": true
   },
   "outputs": [
    {
     "name": "stdout",
     "output_type": "stream",
     "text": [
      "Requirement already satisfied: torch in c:\\users\\colin\\anaconda3\\envs\\mytorch\\lib\\site-packages (1.12.0)\n",
      "Requirement already satisfied: opencv-python in c:\\users\\colin\\anaconda3\\envs\\mytorch\\lib\\site-packages (4.6.0.66)\n",
      "Requirement already satisfied: pandas in c:\\users\\colin\\anaconda3\\envs\\mytorch\\lib\\site-packages (1.4.3)\n",
      "Requirement already satisfied: requests in c:\\users\\colin\\anaconda3\\envs\\mytorch\\lib\\site-packages (2.28.1)\n",
      "Requirement already satisfied: pyyaml in c:\\users\\colin\\anaconda3\\envs\\mytorch\\lib\\site-packages (6.0)\n",
      "Requirement already satisfied: tqdm in c:\\users\\colin\\anaconda3\\envs\\mytorch\\lib\\site-packages (4.64.0)\n",
      "Requirement already satisfied: matplotlib in c:\\users\\colin\\anaconda3\\envs\\mytorch\\lib\\site-packages (3.5.2)\n",
      "Requirement already satisfied: seaborn in c:\\users\\colin\\anaconda3\\envs\\mytorch\\lib\\site-packages (0.11.2)\n",
      "Requirement already satisfied: pytube in c:\\users\\colin\\anaconda3\\envs\\mytorch\\lib\\site-packages (12.1.0)\n",
      "Requirement already satisfied: typing-extensions in c:\\users\\colin\\anaconda3\\envs\\mytorch\\lib\\site-packages (from torch) (4.1.1)\n",
      "Requirement already satisfied: numpy>=1.17.3 in c:\\users\\colin\\anaconda3\\envs\\mytorch\\lib\\site-packages (from opencv-python) (1.23.1)\n",
      "Requirement already satisfied: pytz>=2020.1 in c:\\users\\colin\\anaconda3\\envs\\mytorch\\lib\\site-packages (from pandas) (2022.1)\n",
      "Requirement already satisfied: python-dateutil>=2.8.1 in c:\\users\\colin\\anaconda3\\envs\\mytorch\\lib\\site-packages (from pandas) (2.8.2)\n",
      "Requirement already satisfied: urllib3<1.27,>=1.21.1 in c:\\users\\colin\\anaconda3\\envs\\mytorch\\lib\\site-packages (from requests) (1.26.10)\n",
      "Requirement already satisfied: certifi>=2017.4.17 in c:\\users\\colin\\anaconda3\\envs\\mytorch\\lib\\site-packages (from requests) (2022.6.15)\n",
      "Requirement already satisfied: idna<4,>=2.5 in c:\\users\\colin\\anaconda3\\envs\\mytorch\\lib\\site-packages (from requests) (3.3)\n",
      "Requirement already satisfied: charset-normalizer<3,>=2 in c:\\users\\colin\\anaconda3\\envs\\mytorch\\lib\\site-packages (from requests) (2.1.0)\n",
      "Requirement already satisfied: colorama in c:\\users\\colin\\anaconda3\\envs\\mytorch\\lib\\site-packages (from tqdm) (0.4.5)\n",
      "Requirement already satisfied: fonttools>=4.22.0 in c:\\users\\colin\\anaconda3\\envs\\mytorch\\lib\\site-packages (from matplotlib) (4.34.4)\n",
      "Requirement already satisfied: kiwisolver>=1.0.1 in c:\\users\\colin\\anaconda3\\envs\\mytorch\\lib\\site-packages (from matplotlib) (1.4.3)\n",
      "Requirement already satisfied: pillow>=6.2.0 in c:\\users\\colin\\anaconda3\\envs\\mytorch\\lib\\site-packages (from matplotlib) (9.2.0)\n",
      "Requirement already satisfied: pyparsing>=2.2.1 in c:\\users\\colin\\anaconda3\\envs\\mytorch\\lib\\site-packages (from matplotlib) (3.0.9)\n",
      "Requirement already satisfied: packaging>=20.0 in c:\\users\\colin\\anaconda3\\envs\\mytorch\\lib\\site-packages (from matplotlib) (21.3)\n",
      "Requirement already satisfied: cycler>=0.10 in c:\\users\\colin\\anaconda3\\envs\\mytorch\\lib\\site-packages (from matplotlib) (0.11.0)\n",
      "Requirement already satisfied: scipy>=1.0 in c:\\users\\colin\\anaconda3\\envs\\mytorch\\lib\\site-packages (from seaborn) (1.8.1)\n",
      "Requirement already satisfied: six>=1.5 in c:\\users\\colin\\anaconda3\\envs\\mytorch\\lib\\site-packages (from python-dateutil>=2.8.1->pandas) (1.16.0)\n"
     ]
    }
   ],
   "source": [
    "!pip install torch opencv-python pandas requests pyyaml tqdm matplotlib seaborn pytube "
   ]
  },
  {
   "cell_type": "code",
   "execution_count": 2,
   "id": "150dad33",
   "metadata": {},
   "outputs": [
    {
     "name": "stderr",
     "output_type": "stream",
     "text": [
      "Using cache found in C:\\Users\\colin/.cache\\torch\\hub\\ultralytics_yolov5_master\n",
      "\u001b[31m\u001b[1mrequirements:\u001b[0m torch!=1.12.0,>=1.7.0 not found and is required by YOLOv5, attempting auto-update...\n",
      "\u001b[31m\u001b[1mrequirements:\u001b[0m 'pip install torch!=1.12.0,>=1.7.0' skipped (offline)\n",
      "\u001b[31m\u001b[1mrequirements:\u001b[0m torchvision!=0.13.0,>=0.8.1 not found and is required by YOLOv5, attempting auto-update...\n",
      "\u001b[31m\u001b[1mrequirements:\u001b[0m 'pip install torchvision!=0.13.0,>=0.8.1' skipped (offline)\n",
      "YOLOv5  2022-7-11 Python-3.9.12 torch-1.12.0 CUDA:0 (NVIDIA GeForce RTX 2060 with Max-Q Design, 6144MiB)\n",
      "\n",
      "Fusing layers... \n",
      "YOLOv5n summary: 213 layers, 1867405 parameters, 0 gradients\n",
      "Adding AutoShape... \n",
      "Saved 3 images to \u001b[1mruns\\detect\\exp3\u001b[0m\n",
      "Saved 3 images to \u001b[1mruns\\detect\\exp4\u001b[0m\n",
      "Saved results to runs\\detect\\exp4\n",
      "\n"
     ]
    },
    {
     "name": "stdout",
     "output_type": "stream",
     "text": [
      "image 1/3: 630x818 1 zebra\n",
      "image 2/3: 630x840 3 persons\n",
      "image 3/3: 240x569 16 persons, 1 tie\n",
      "Speed: 21.7ms pre-process, 283.8ms inference, 21.1ms NMS per image at shape (3, 3, 512, 640)\n"
     ]
    },
    {
     "data": {
      "text/html": [
       "<div>\n",
       "<style scoped>\n",
       "    .dataframe tbody tr th:only-of-type {\n",
       "        vertical-align: middle;\n",
       "    }\n",
       "\n",
       "    .dataframe tbody tr th {\n",
       "        vertical-align: top;\n",
       "    }\n",
       "\n",
       "    .dataframe thead th {\n",
       "        text-align: right;\n",
       "    }\n",
       "</style>\n",
       "<table border=\"1\" class=\"dataframe\">\n",
       "  <thead>\n",
       "    <tr style=\"text-align: right;\">\n",
       "      <th></th>\n",
       "      <th>xmin</th>\n",
       "      <th>ymin</th>\n",
       "      <th>xmax</th>\n",
       "      <th>ymax</th>\n",
       "      <th>confidence</th>\n",
       "      <th>class</th>\n",
       "      <th>name</th>\n",
       "    </tr>\n",
       "  </thead>\n",
       "  <tbody>\n",
       "    <tr>\n",
       "      <th>0</th>\n",
       "      <td>348.056488</td>\n",
       "      <td>293.136475</td>\n",
       "      <td>692.091003</td>\n",
       "      <td>531.067444</td>\n",
       "      <td>0.869236</td>\n",
       "      <td>22</td>\n",
       "      <td>zebra</td>\n",
       "    </tr>\n",
       "  </tbody>\n",
       "</table>\n",
       "</div>"
      ],
      "text/plain": [
       "         xmin        ymin        xmax        ymax  confidence  class   name\n",
       "0  348.056488  293.136475  692.091003  531.067444    0.869236     22  zebra"
      ]
     },
     "execution_count": 2,
     "metadata": {},
     "output_type": "execute_result"
    }
   ],
   "source": [
    "import torch\n",
    "\n",
    "# Model  yolov5n yolov5s yolov5m yolov5l yolov5x\n",
    "model = torch.hub.load('ultralytics/yolov5', 'yolov5n', pretrained=True)\n",
    "\n",
    "# Images\n",
    "# imgs = ['https://ultralytics.com/images/zidane.jpg']  # batch of images\n",
    "imgs = ['tiger1.jpeg', 'test1.jpeg', 'test3.jpg']\n",
    "\n",
    "# Inference\n",
    "results = model(imgs)\n",
    "\n",
    "# Results\n",
    "results.print()\n",
    "results.save()  # or .show()\n",
    "results.crop()  # 把偵測到的物件擷取下來\n",
    "# results.xyxy[1]  # img1 predictions (tensor)\n",
    "results.pandas().xyxy[0]  # img1 predictions (pandas)\n",
    "#      xmin    ymin    xmax   ymax  confidence  class    name\n",
    "# 0  749.50   43.50  1148.0  704.5    0.874023      0  person\n",
    "# 1  433.50  433.50   517.5  714.5    0.687988     27     tie\n",
    "# 2  114.75  195.75  1095.0  708.0    0.624512      0  person\n",
    "# 3  986.00  304.00  1028.0  420.0    0.286865     27     tie"
   ]
  },
  {
   "cell_type": "code",
   "execution_count": 9,
   "id": "9418274f",
   "metadata": {},
   "outputs": [
    {
     "data": {
      "text/plain": [
       "['__class__',\n",
       " '__delattr__',\n",
       " '__dict__',\n",
       " '__dir__',\n",
       " '__doc__',\n",
       " '__eq__',\n",
       " '__format__',\n",
       " '__ge__',\n",
       " '__getattribute__',\n",
       " '__gt__',\n",
       " '__hash__',\n",
       " '__init__',\n",
       " '__init_subclass__',\n",
       " '__le__',\n",
       " '__len__',\n",
       " '__lt__',\n",
       " '__module__',\n",
       " '__ne__',\n",
       " '__new__',\n",
       " '__reduce__',\n",
       " '__reduce_ex__',\n",
       " '__repr__',\n",
       " '__setattr__',\n",
       " '__sizeof__',\n",
       " '__slotnames__',\n",
       " '__str__',\n",
       " '__subclasshook__',\n",
       " '__weakref__',\n",
       " 'crop',\n",
       " 'display',\n",
       " 'files',\n",
       " 'imgs',\n",
       " 'n',\n",
       " 'names',\n",
       " 'pandas',\n",
       " 'pred',\n",
       " 'print',\n",
       " 'render',\n",
       " 's',\n",
       " 'save',\n",
       " 'show',\n",
       " 't',\n",
       " 'times',\n",
       " 'tolist',\n",
       " 'xywh',\n",
       " 'xywhn',\n",
       " 'xyxy',\n",
       " 'xyxyn']"
      ]
     },
     "execution_count": 9,
     "metadata": {},
     "output_type": "execute_result"
    }
   ],
   "source": [
    "dir(results)"
   ]
  },
  {
   "cell_type": "code",
   "execution_count": 3,
   "id": "e6f91638",
   "metadata": {},
   "outputs": [
    {
     "name": "stdout",
     "output_type": "stream",
     "text": [
      "Loading video...\n",
      "溪頭遊客打麻將野炊 電視牆秀違規照｜華視新聞 20220610.mp4 | 23 MB\n",
      "Already downloaded at:\n",
      "C:\\Users\\colin\\Ai新尖兵\\aiclass4\\Pytorch_Yolov5\\溪頭遊客打麻將野炊 電視牆秀違規照｜華視新聞 20220610.mp4\n"
     ]
    }
   ],
   "source": [
    "# !pytube https://www.youtube.com/watch?v=FSEhH3F0fhY\n",
    "!pytube https://www.youtube.com/watch?v=1HpDG6Sa9xA"
   ]
  },
  {
   "cell_type": "code",
   "execution_count": 4,
   "id": "fe59ebc3",
   "metadata": {},
   "outputs": [
    {
     "name": "stderr",
     "output_type": "stream",
     "text": [
      "Using cache found in C:\\Users\\colin/.cache\\torch\\hub\\ultralytics_yolov5_master\n",
      "\u001b[31m\u001b[1mrequirements:\u001b[0m torch!=1.12.0,>=1.7.0 not found and is required by YOLOv5, attempting auto-update...\n",
      "\u001b[31m\u001b[1mrequirements:\u001b[0m 'pip install torch!=1.12.0,>=1.7.0' skipped (offline)\n",
      "\u001b[31m\u001b[1mrequirements:\u001b[0m torchvision!=0.13.0,>=0.8.1 not found and is required by YOLOv5, attempting auto-update...\n",
      "\u001b[31m\u001b[1mrequirements:\u001b[0m 'pip install torchvision!=0.13.0,>=0.8.1' skipped (offline)\n",
      "YOLOv5  2022-7-11 Python-3.9.12 torch-1.12.0 CUDA:0 (NVIDIA GeForce RTX 2060 with Max-Q Design, 6144MiB)\n",
      "\n",
      "Fusing layers... \n",
      "YOLOv5m summary: 290 layers, 21172173 parameters, 0 gradients\n",
      "Adding AutoShape... \n"
     ]
    }
   ],
   "source": [
    "%matplotlib inline\n",
    "%run myyolov5.py video1.mp4"
   ]
  },
  {
   "cell_type": "code",
   "execution_count": null,
   "id": "7bcac729",
   "metadata": {},
   "outputs": [],
   "source": []
  }
 ],
 "metadata": {
  "kernelspec": {
   "display_name": "mytorch",
   "language": "python",
   "name": "mytorch"
  },
  "language_info": {
   "codemirror_mode": {
    "name": "ipython",
    "version": 3
   },
   "file_extension": ".py",
   "mimetype": "text/x-python",
   "name": "python",
   "nbconvert_exporter": "python",
   "pygments_lexer": "ipython3",
   "version": "3.9.12"
  }
 },
 "nbformat": 4,
 "nbformat_minor": 5
}
